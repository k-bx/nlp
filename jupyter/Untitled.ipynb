{
 "cells": [
  {
   "cell_type": "code",
   "execution_count": 30,
   "metadata": {},
   "outputs": [],
   "source": [
    "import nltk, re, pprint\n",
    "from IPython.display import display\n",
    "# nltk.download('punkt')\n",
    "# nltk.download('averaged_perceptron_tagger')"
   ]
  },
  {
   "cell_type": "code",
   "execution_count": 21,
   "metadata": {},
   "outputs": [],
   "source": [
    "def ie_preprocess(document):\n",
    "    sentences = nltk.sent_tokenize(document)\n",
    "    sentences = [nltk.word_tokenize(sent) for sent in sentences]\n",
    "    sentences = [nltk.pos_tag(sent) for sent in sentences]\n",
    "    return sentences"
   ]
  },
  {
   "cell_type": "code",
   "execution_count": 7,
   "metadata": {},
   "outputs": [],
   "source": [
    "nltk.sent_tokenize?"
   ]
  },
  {
   "cell_type": "code",
   "execution_count": 31,
   "metadata": {},
   "outputs": [
    {
     "name": "stdout",
     "output_type": "stream",
     "text": [
      "[('Jersey', 'NNP'), ('Shore', 'NNP'), ('Season', 'NNP'), ('6', 'CD'), ('cast', 'NN'), (\"'s\", 'POS'), ('salaries', 'NNS'), ('revealed', 'VBD'), (';', ':'), ('More', 'JJR'), ('than', 'IN'), ('President', 'NNP'), ('Obama', 'NNP'), ('!', '.')]\n",
      "(S\n",
      "  Jersey/NNP\n",
      "  Shore/NNP\n",
      "  Season/NNP\n",
      "  6/CD\n",
      "  (NP cast/NN)\n",
      "  's/POS\n",
      "  salaries/NNS\n",
      "  revealed/VBD\n",
      "  ;/:\n",
      "  More/JJR\n",
      "  than/IN\n",
      "  President/NNP\n",
      "  Obama/NNP\n",
      "  !/.)\n"
     ]
    },
    {
     "data": {
      "image/png": "[encoded data removed]",
      "text/plain": [
       "Tree('S', [('Jersey', 'NNP'), ('Shore', 'NNP'), ('Season', 'NNP'), ('6', 'CD'), Tree('NP', [('cast', 'NN')]), (\"'s\", 'POS'), ('salaries', 'NNS'), ('revealed', 'VBD'), (';', ':'), ('More', 'JJR'), ('than', 'IN'), ('President', 'NNP'), ('Obama', 'NNP'), ('!', '.')])"
      ]
     },
     "metadata": {},
     "output_type": "display_data"
    }
   ],
   "source": [
    "document = \"Jersey Shore Season 6 cast's salaries revealed; More than President Obama!\"\n",
    "sentences = ie_preprocess(document)\n",
    "# print(sentences)\n",
    "sentence = sentences[0]\n",
    "print(sentence)\n",
    "grammar = \"NP: {<DT>?<JJ>*<NN>}\"\n",
    "cp = nltk.RegexpParser(grammar)\n",
    "result = cp.parse(sentence)\n",
    "print(result)\n",
    "display(result)"
   ]
  },
  {
   "cell_type": "code",
   "execution_count": null,
   "metadata": {},
   "outputs": [],
   "source": []
  }
 ],
 "metadata": {
  "kernelspec": {
   "display_name": "Python 3",
   "language": "python",
   "name": "python3"
  },
  "language_info": {
   "codemirror_mode": {
    "name": "ipython",
    "version": 3
   },
   "file_extension": ".py",
   "mimetype": "text/x-python",
   "name": "python",
   "nbconvert_exporter": "python",
   "pygments_lexer": "ipython3",
   "version": "3.6.4"
  }
 },
 "nbformat": 4,
 "nbformat_minor": 2
}
